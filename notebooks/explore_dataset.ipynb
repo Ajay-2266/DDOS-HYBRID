{
 "cells": [
  {
   "cell_type": "code",
   "execution_count": 1,
   "id": "7bc26c24-4601-40c0-b9c9-cd85e2642f47",
   "metadata": {},
   "outputs": [
    {
     "name": "stdout",
     "output_type": "stream",
     "text": [
      "Looking for: C:\\Users\\ajayk\\DDoS-Hybrid\\data\\raw\\NSL-KDD\\KDDTrain+.csv\n",
      "Exists? True\n"
     ]
    }
   ],
   "source": [
    "import os\n",
    "import pandas as pd\n",
    "import matplotlib.pyplot as plt\n",
    "\n",
    "# Paths\n",
    "train_path = os.path.join('..', 'data', 'raw', 'NSL-KDD', 'KDDTrain+.csv')\n",
    "test_path  = os.path.join('..', 'data', 'raw', 'NSL-KDD', 'KDDTest+.csv')\n",
    "\n",
    "print(\"Looking for:\", os.path.abspath(train_path))\n",
    "print(\"Exists?\", os.path.exists(train_path))\n"
   ]
  },
  {
   "cell_type": "code",
   "execution_count": 2,
   "id": "74f2b32a-eb2a-4b95-8c07-97f86b93749b",
   "metadata": {},
   "outputs": [
    {
     "name": "stdout",
     "output_type": "stream",
     "text": [
      "Train shape: (125972, 42)\n",
      "Test  shape: (22543, 42)\n"
     ]
    }
   ],
   "source": [
    "# load - might need encoding or sep options depending on CSV\n",
    "df_train = pd.read_csv(train_path)\n",
    "df_test  = pd.read_csv(test_path)\n",
    "\n",
    "print(\"Train shape:\", df_train.shape)\n",
    "print(\"Test  shape:\", df_test.shape)\n"
   ]
  },
  {
   "cell_type": "code",
   "execution_count": 3,
   "id": "6a0323ac-58c9-4969-97f8-a526a3fcb45a",
   "metadata": {},
   "outputs": [
    {
     "name": "stdout",
     "output_type": "stream",
     "text": [
      "['0', 'tcp', 'ftp_data', 'SF', '491', '0.1', '0.2', '0.3', '0.4', '0.5', '0.6', '0.7', '0.8', '0.9', '0.10', '0.11', '0.12', '0.13', '0.14', '0.15', '0.16', '0.18', '2', '2.1', '0.00', '0.00.1', '0.00.2', '0.00.3', '1.00', '0.00.4', '0.00.5', '150', '25', '0.17', '0.03', '0.17.1', '0.00.6', '0.00.7', '0.00.8', '0.05', '0.00.9', 'normal']\n"
     ]
    },
    {
     "data": {
      "text/html": [
       "<div>\n",
       "<style scoped>\n",
       "    .dataframe tbody tr th:only-of-type {\n",
       "        vertical-align: middle;\n",
       "    }\n",
       "\n",
       "    .dataframe tbody tr th {\n",
       "        vertical-align: top;\n",
       "    }\n",
       "\n",
       "    .dataframe thead th {\n",
       "        text-align: right;\n",
       "    }\n",
       "</style>\n",
       "<table border=\"1\" class=\"dataframe\">\n",
       "  <thead>\n",
       "    <tr style=\"text-align: right;\">\n",
       "      <th></th>\n",
       "      <th>0</th>\n",
       "      <th>tcp</th>\n",
       "      <th>ftp_data</th>\n",
       "      <th>SF</th>\n",
       "      <th>491</th>\n",
       "      <th>0.1</th>\n",
       "      <th>0.2</th>\n",
       "      <th>0.3</th>\n",
       "      <th>0.4</th>\n",
       "      <th>0.5</th>\n",
       "      <th>...</th>\n",
       "      <th>25</th>\n",
       "      <th>0.17</th>\n",
       "      <th>0.03</th>\n",
       "      <th>0.17.1</th>\n",
       "      <th>0.00.6</th>\n",
       "      <th>0.00.7</th>\n",
       "      <th>0.00.8</th>\n",
       "      <th>0.05</th>\n",
       "      <th>0.00.9</th>\n",
       "      <th>normal</th>\n",
       "    </tr>\n",
       "  </thead>\n",
       "  <tbody>\n",
       "    <tr>\n",
       "      <th>0</th>\n",
       "      <td>0</td>\n",
       "      <td>udp</td>\n",
       "      <td>other</td>\n",
       "      <td>SF</td>\n",
       "      <td>146</td>\n",
       "      <td>0</td>\n",
       "      <td>0</td>\n",
       "      <td>0</td>\n",
       "      <td>0</td>\n",
       "      <td>0</td>\n",
       "      <td>...</td>\n",
       "      <td>1</td>\n",
       "      <td>0.00</td>\n",
       "      <td>0.60</td>\n",
       "      <td>0.88</td>\n",
       "      <td>0.00</td>\n",
       "      <td>0.00</td>\n",
       "      <td>0.00</td>\n",
       "      <td>0.0</td>\n",
       "      <td>0.00</td>\n",
       "      <td>normal</td>\n",
       "    </tr>\n",
       "    <tr>\n",
       "      <th>1</th>\n",
       "      <td>0</td>\n",
       "      <td>tcp</td>\n",
       "      <td>private</td>\n",
       "      <td>S0</td>\n",
       "      <td>0</td>\n",
       "      <td>0</td>\n",
       "      <td>0</td>\n",
       "      <td>0</td>\n",
       "      <td>0</td>\n",
       "      <td>0</td>\n",
       "      <td>...</td>\n",
       "      <td>26</td>\n",
       "      <td>0.10</td>\n",
       "      <td>0.05</td>\n",
       "      <td>0.00</td>\n",
       "      <td>0.00</td>\n",
       "      <td>1.00</td>\n",
       "      <td>1.00</td>\n",
       "      <td>0.0</td>\n",
       "      <td>0.00</td>\n",
       "      <td>anomaly</td>\n",
       "    </tr>\n",
       "    <tr>\n",
       "      <th>2</th>\n",
       "      <td>0</td>\n",
       "      <td>tcp</td>\n",
       "      <td>http</td>\n",
       "      <td>SF</td>\n",
       "      <td>232</td>\n",
       "      <td>8153</td>\n",
       "      <td>0</td>\n",
       "      <td>0</td>\n",
       "      <td>0</td>\n",
       "      <td>0</td>\n",
       "      <td>...</td>\n",
       "      <td>255</td>\n",
       "      <td>1.00</td>\n",
       "      <td>0.00</td>\n",
       "      <td>0.03</td>\n",
       "      <td>0.04</td>\n",
       "      <td>0.03</td>\n",
       "      <td>0.01</td>\n",
       "      <td>0.0</td>\n",
       "      <td>0.01</td>\n",
       "      <td>normal</td>\n",
       "    </tr>\n",
       "    <tr>\n",
       "      <th>3</th>\n",
       "      <td>0</td>\n",
       "      <td>tcp</td>\n",
       "      <td>http</td>\n",
       "      <td>SF</td>\n",
       "      <td>199</td>\n",
       "      <td>420</td>\n",
       "      <td>0</td>\n",
       "      <td>0</td>\n",
       "      <td>0</td>\n",
       "      <td>0</td>\n",
       "      <td>...</td>\n",
       "      <td>255</td>\n",
       "      <td>1.00</td>\n",
       "      <td>0.00</td>\n",
       "      <td>0.00</td>\n",
       "      <td>0.00</td>\n",
       "      <td>0.00</td>\n",
       "      <td>0.00</td>\n",
       "      <td>0.0</td>\n",
       "      <td>0.00</td>\n",
       "      <td>normal</td>\n",
       "    </tr>\n",
       "    <tr>\n",
       "      <th>4</th>\n",
       "      <td>0</td>\n",
       "      <td>tcp</td>\n",
       "      <td>private</td>\n",
       "      <td>REJ</td>\n",
       "      <td>0</td>\n",
       "      <td>0</td>\n",
       "      <td>0</td>\n",
       "      <td>0</td>\n",
       "      <td>0</td>\n",
       "      <td>0</td>\n",
       "      <td>...</td>\n",
       "      <td>19</td>\n",
       "      <td>0.07</td>\n",
       "      <td>0.07</td>\n",
       "      <td>0.00</td>\n",
       "      <td>0.00</td>\n",
       "      <td>0.00</td>\n",
       "      <td>0.00</td>\n",
       "      <td>1.0</td>\n",
       "      <td>1.00</td>\n",
       "      <td>anomaly</td>\n",
       "    </tr>\n",
       "  </tbody>\n",
       "</table>\n",
       "<p>5 rows × 42 columns</p>\n",
       "</div>"
      ],
      "text/plain": [
       "   0  tcp ftp_data   SF  491   0.1  0.2  0.3  0.4  0.5  ...   25  0.17  0.03  \\\n",
       "0  0  udp    other   SF  146     0    0    0    0    0  ...    1  0.00  0.60   \n",
       "1  0  tcp  private   S0    0     0    0    0    0    0  ...   26  0.10  0.05   \n",
       "2  0  tcp     http   SF  232  8153    0    0    0    0  ...  255  1.00  0.00   \n",
       "3  0  tcp     http   SF  199   420    0    0    0    0  ...  255  1.00  0.00   \n",
       "4  0  tcp  private  REJ    0     0    0    0    0    0  ...   19  0.07  0.07   \n",
       "\n",
       "   0.17.1  0.00.6  0.00.7  0.00.8  0.05  0.00.9   normal  \n",
       "0    0.88    0.00    0.00    0.00   0.0    0.00   normal  \n",
       "1    0.00    0.00    1.00    1.00   0.0    0.00  anomaly  \n",
       "2    0.03    0.04    0.03    0.01   0.0    0.01   normal  \n",
       "3    0.00    0.00    0.00    0.00   0.0    0.00   normal  \n",
       "4    0.00    0.00    0.00    0.00   1.0    1.00  anomaly  \n",
       "\n",
       "[5 rows x 42 columns]"
      ]
     },
     "metadata": {},
     "output_type": "display_data"
    }
   ],
   "source": [
    "# See column names (very important — find the label column name)\n",
    "print(df_train.columns.tolist())\n",
    "display(df_train.head())\n"
   ]
  },
  {
   "cell_type": "code",
   "execution_count": 4,
   "id": "31694fd4-ce86-4e54-8137-a245fa5f4ae0",
   "metadata": {},
   "outputs": [
    {
     "name": "stdout",
     "output_type": "stream",
     "text": [
      "Detected label column: normal\n",
      "normal\n",
      "normal     67342\n",
      "anomaly    58630\n",
      "Name: count, dtype: int64\n"
     ]
    }
   ],
   "source": [
    "# The last column is the label (normal / anomaly)\n",
    "label_col = df_train.columns[-1]\n",
    "print(\"Detected label column:\", label_col)\n",
    "\n",
    "print(df_train[label_col].value_counts())\n"
   ]
  },
  {
   "cell_type": "code",
   "execution_count": 5,
   "id": "e105afea-746a-4fcf-a2f1-5020d9edf65e",
   "metadata": {},
   "outputs": [
    {
     "name": "stdout",
     "output_type": "stream",
     "text": [
      "Missing values per column:\n",
      " 0           0\n",
      "tcp         0\n",
      "ftp_data    0\n",
      "SF          0\n",
      "491         0\n",
      "0.1         0\n",
      "0.2         0\n",
      "0.3         0\n",
      "0.4         0\n",
      "0.5         0\n",
      "0.6         0\n",
      "0.7         0\n",
      "0.8         0\n",
      "0.9         0\n",
      "0.10        0\n",
      "0.11        0\n",
      "0.12        0\n",
      "0.13        0\n",
      "0.14        0\n",
      "0.15        0\n",
      "0.16        0\n",
      "0.18        0\n",
      "2           0\n",
      "2.1         0\n",
      "0.00        0\n",
      "0.00.1      0\n",
      "0.00.2      0\n",
      "0.00.3      0\n",
      "1.00        0\n",
      "0.00.4      0\n",
      "0.00.5      0\n",
      "150         0\n",
      "25          0\n",
      "0.17        0\n",
      "0.03        0\n",
      "0.17.1      0\n",
      "0.00.6      0\n",
      "0.00.7      0\n",
      "0.00.8      0\n",
      "0.05        0\n",
      "0.00.9      0\n",
      "normal      0\n",
      "dtype: int64\n",
      "Duplicate rows in train: 9\n"
     ]
    }
   ],
   "source": [
    "print(\"Missing values per column:\\n\", df_train.isnull().sum())\n",
    "print(\"Duplicate rows in train:\", df_train.duplicated().sum())\n"
   ]
  },
  {
   "cell_type": "code",
   "execution_count": 6,
   "id": "7c7d9fc1-cdd7-4fdc-8c72-731ec8221fe7",
   "metadata": {},
   "outputs": [
    {
     "data": {
      "image/png": "[encoded data removed]",
      "text/plain": [
       "<Figure size 640x480 with 1 Axes>"
      ]
     },
     "metadata": {},
     "output_type": "display_data"
    }
   ],
   "source": [
    "counts = df_train[label_col].value_counts()\n",
    "counts.plot(kind='bar')\n",
    "plt.title('Class distribution (train)')\n",
    "plt.xlabel('Class')\n",
    "plt.ylabel('Count')\n",
    "plt.tight_layout()\n",
    "plt.show()\n"
   ]
  },
  {
   "cell_type": "code",
   "execution_count": 7,
   "id": "b18a1352-4f9d-486e-b972-c2ee6cfa0f6a",
   "metadata": {},
   "outputs": [
    {
     "name": "stdout",
     "output_type": "stream",
     "text": [
      "Saved sample to ../data/sample/train_sample.csv\n",
      "Processed file saved to ../data/processed/train_processed.csv\n"
     ]
    }
   ],
   "source": [
    "# Ensure directories exist\n",
    "os.makedirs(os.path.join('..', 'data', 'sample'), exist_ok=True)\n",
    "os.makedirs(os.path.join('..', 'data', 'processed'), exist_ok=True)\n",
    "\n",
    "# 1% sample\n",
    "sample = df_train.sample(frac=0.01, random_state=42)\n",
    "sample.to_csv(os.path.join('..', 'data', 'sample', 'train_sample.csv'), index=False)\n",
    "print(\"Saved sample to ../data/sample/train_sample.csv\")\n",
    "\n",
    "# Minimal cleaning: drop duplicates, drop missing\n",
    "df_clean = df_train.drop_duplicates().dropna()\n",
    "df_clean.to_csv(os.path.join('..', 'data', 'processed', 'train_processed.csv'), index=False)\n",
    "print(\"Processed file saved to ../data/processed/train_processed.csv\")\n"
   ]
  },
  {
   "cell_type": "code",
   "execution_count": null,
   "id": "30e7f4e9-2765-4662-a4c2-c304ec08516c",
   "metadata": {},
   "outputs": [],
   "source": [
    "\n"
   ]
  }
 ],
 "metadata": {
  "kernelspec": {
   "display_name": "Python 3 (ipykernel)",
   "language": "python",
   "name": "python3"
  },
  "language_info": {
   "codemirror_mode": {
    "name": "ipython",
    "version": 3
   },
   "file_extension": ".py",
   "mimetype": "text/x-python",
   "name": "python",
   "nbconvert_exporter": "python",
   "pygments_lexer": "ipython3",
   "version": "3.13.1"
  }
 },
 "nbformat": 4,
 "nbformat_minor": 5
}
